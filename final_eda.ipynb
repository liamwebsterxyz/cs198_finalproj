{
 "cells": [
  {
   "cell_type": "code",
   "execution_count": null,
   "metadata": {},
   "outputs": [],
   "source": [
    "# TODO\n",
    "# Characteristics of positive and negative overnight gaps, which are identified by the Barndorff–Nielsen and Shephard (BNS) jump test, from January 1998–December 2015.\n",
    "# shows the characteristics of the overnight price gaps detected by our jump test procedure. In total, we observed 2128 overnight gaps during the sample period: 1154 of those gaps were positive, while 974 were negative. On average, the S&P 500 index faced positive (negative) overnight gaps of 0.60 percent (−0.67 percent). The largest overnight gaps occurred during the global financial crisis with 6.02 percent and −7.64 percent. The fact that both the range and the standard deviation of negative gaps were higher than those of positive overnight movements confirms the existing literature: market participants tend to react stronger to bad news rather than to good headlines (Suleman 2012)."
   ]
  },
  {
   "cell_type": "code",
   "execution_count": 1,
   "metadata": {},
   "outputs": [],
   "source": [
    "# TODO\n",
    "# illustrates the detected jumps in a more detailed way. We observe a higher variation of negative overnight gaps, which is not surprising since financial data possess an asymmetric distribution (Cont 2001). Interestingly, the interval with the highest number of observations for both positive and negative overnight gaps was about ±0.15"
   ]
  },
  {
   "cell_type": "code",
   "execution_count": 2,
   "metadata": {},
   "outputs": [],
   "source": [
    "# TODO \n",
    "# presents the number of detected overnight gaps over time"
   ]
  },
  {
   "cell_type": "code",
   "execution_count": 3,
   "metadata": {},
   "outputs": [],
   "source": [
    "# TODO\n",
    "# depicts the average cumulative returns after overnight gaps identified by the BNS jump test. The detailed development of the ACR for positive and negative price gaps is reported in Table A1"
   ]
  },
  {
   "cell_type": "code",
   "execution_count": null,
   "metadata": {},
   "outputs": [],
   "source": []
  }
 ],
 "metadata": {
  "kernelspec": {
   "display_name": ".venv",
   "language": "python",
   "name": "python3"
  },
  "language_info": {
   "codemirror_mode": {
    "name": "ipython",
    "version": 3
   },
   "file_extension": ".py",
   "mimetype": "text/x-python",
   "name": "python",
   "nbconvert_exporter": "python",
   "pygments_lexer": "ipython3",
   "version": "3.10.11"
  },
  "orig_nbformat": 4
 },
 "nbformat": 4,
 "nbformat_minor": 2
}
